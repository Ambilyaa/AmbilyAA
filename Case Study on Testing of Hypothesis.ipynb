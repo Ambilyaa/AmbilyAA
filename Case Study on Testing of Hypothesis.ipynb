{
 "cells": [
  {
   "cell_type": "markdown",
   "id": "a283594f",
   "metadata": {},
   "source": [
    "# Case Study on Testing of Hypothesis\n"
   ]
  },
  {
   "cell_type": "markdown",
   "id": "abbf93e8",
   "metadata": {},
   "source": [
    "## Ques. A company started to invest in digital marketing as a new way of their product promotions. For that they collected data and decided to carry out a study on it.\n",
    "\n",
    "## ● The company wishes to clarify whether there is any increase in sales after stepping into digital marketing.\n",
    "\n",
    "## ● The company needs to check whether there is any dependency between the features “Region” and “Manager”."
   ]
  },
  {
   "cell_type": "code",
   "execution_count": 1,
   "id": "4a4840ff",
   "metadata": {},
   "outputs": [],
   "source": [
    "import numpy as np                      #importing numpy library\n",
    "import pandas as pd                     #importing pandas library"
   ]
  },
  {
   "cell_type": "code",
   "execution_count": 2,
   "id": "d02e96a5",
   "metadata": {},
   "outputs": [],
   "source": [
    "data=pd.read_csv(r\"C:\\Users\\Amby\\Downloads\\Sales_add.csv\")        # loading the dataset"
   ]
  },
  {
   "cell_type": "code",
   "execution_count": 3,
   "id": "b8c66cdc",
   "metadata": {},
   "outputs": [
    {
     "data": {
      "text/html": [
       "<div>\n",
       "<style scoped>\n",
       "    .dataframe tbody tr th:only-of-type {\n",
       "        vertical-align: middle;\n",
       "    }\n",
       "\n",
       "    .dataframe tbody tr th {\n",
       "        vertical-align: top;\n",
       "    }\n",
       "\n",
       "    .dataframe thead th {\n",
       "        text-align: right;\n",
       "    }\n",
       "</style>\n",
       "<table border=\"1\" class=\"dataframe\">\n",
       "  <thead>\n",
       "    <tr style=\"text-align: right;\">\n",
       "      <th></th>\n",
       "      <th>Month</th>\n",
       "      <th>Region</th>\n",
       "      <th>Manager</th>\n",
       "      <th>Sales_before_digital_add(in $)</th>\n",
       "      <th>Sales_After_digital_add(in $)</th>\n",
       "    </tr>\n",
       "  </thead>\n",
       "  <tbody>\n",
       "    <tr>\n",
       "      <th>0</th>\n",
       "      <td>Month-1</td>\n",
       "      <td>Region - A</td>\n",
       "      <td>Manager - A</td>\n",
       "      <td>132921</td>\n",
       "      <td>270390</td>\n",
       "    </tr>\n",
       "    <tr>\n",
       "      <th>1</th>\n",
       "      <td>Month-2</td>\n",
       "      <td>Region - A</td>\n",
       "      <td>Manager - C</td>\n",
       "      <td>149559</td>\n",
       "      <td>223334</td>\n",
       "    </tr>\n",
       "    <tr>\n",
       "      <th>2</th>\n",
       "      <td>Month-3</td>\n",
       "      <td>Region - B</td>\n",
       "      <td>Manager - A</td>\n",
       "      <td>146278</td>\n",
       "      <td>244243</td>\n",
       "    </tr>\n",
       "    <tr>\n",
       "      <th>3</th>\n",
       "      <td>Month-4</td>\n",
       "      <td>Region - B</td>\n",
       "      <td>Manager - B</td>\n",
       "      <td>152167</td>\n",
       "      <td>231808</td>\n",
       "    </tr>\n",
       "    <tr>\n",
       "      <th>4</th>\n",
       "      <td>Month-5</td>\n",
       "      <td>Region - C</td>\n",
       "      <td>Manager - B</td>\n",
       "      <td>159525</td>\n",
       "      <td>258402</td>\n",
       "    </tr>\n",
       "  </tbody>\n",
       "</table>\n",
       "</div>"
      ],
      "text/plain": [
       "     Month      Region      Manager  Sales_before_digital_add(in $)  \\\n",
       "0  Month-1  Region - A  Manager - A                          132921   \n",
       "1  Month-2  Region - A  Manager - C                          149559   \n",
       "2  Month-3  Region - B  Manager - A                          146278   \n",
       "3  Month-4  Region - B  Manager - B                          152167   \n",
       "4  Month-5  Region - C  Manager - B                          159525   \n",
       "\n",
       "   Sales_After_digital_add(in $)  \n",
       "0                         270390  \n",
       "1                         223334  \n",
       "2                         244243  \n",
       "3                         231808  \n",
       "4                         258402  "
      ]
     },
     "execution_count": 3,
     "metadata": {},
     "output_type": "execute_result"
    }
   ],
   "source": [
    "data.head()                                                       # table shows the first 5 rows "
   ]
  },
  {
   "cell_type": "code",
   "execution_count": 4,
   "id": "320bca65",
   "metadata": {},
   "outputs": [
    {
     "data": {
      "text/plain": [
       "(22, 5)"
      ]
     },
     "execution_count": 4,
     "metadata": {},
     "output_type": "execute_result"
    }
   ],
   "source": [
    "data.shape                                        # finding total no: of rows and columns in the datset"
   ]
  },
  {
   "cell_type": "code",
   "execution_count": 5,
   "id": "1294196c",
   "metadata": {},
   "outputs": [
    {
     "name": "stdout",
     "output_type": "stream",
     "text": [
      "<class 'pandas.core.frame.DataFrame'>\n",
      "RangeIndex: 22 entries, 0 to 21\n",
      "Data columns (total 5 columns):\n",
      " #   Column                          Non-Null Count  Dtype \n",
      "---  ------                          --------------  ----- \n",
      " 0   Month                           22 non-null     object\n",
      " 1   Region                          22 non-null     object\n",
      " 2   Manager                         22 non-null     object\n",
      " 3   Sales_before_digital_add(in $)  22 non-null     int64 \n",
      " 4   Sales_After_digital_add(in $)   22 non-null     int64 \n",
      "dtypes: int64(2), object(3)\n",
      "memory usage: 1008.0+ bytes\n"
     ]
    }
   ],
   "source": [
    "data.info()                                       # gives brief information about the dataset"
   ]
  },
  {
   "cell_type": "code",
   "execution_count": 6,
   "id": "8321b2a2",
   "metadata": {},
   "outputs": [
    {
     "data": {
      "text/plain": [
       "Month                             0\n",
       "Region                            0\n",
       "Manager                           0\n",
       "Sales_before_digital_add(in $)    0\n",
       "Sales_After_digital_add(in $)     0\n",
       "dtype: int64"
      ]
     },
     "execution_count": 6,
     "metadata": {},
     "output_type": "execute_result"
    }
   ],
   "source": [
    "data.isna().sum()                               # checks whether there is any null values present in the dataset."
   ]
  },
  {
   "cell_type": "markdown",
   "id": "5f5d7e14",
   "metadata": {},
   "source": [
    "# Case -1"
   ]
  },
  {
   "cell_type": "markdown",
   "id": "6f3e29b1",
   "metadata": {},
   "source": [
    "## Q.1.To see whether there is any increase in sales after stepping into digital marketing."
   ]
  },
  {
   "cell_type": "markdown",
   "id": "5d3dd3a3",
   "metadata": {},
   "source": [
    "### Null Hypothesis : There is no increase in sales after implementing digital marketing.\n"
   ]
  },
  {
   "cell_type": "markdown",
   "id": "aadbaa09",
   "metadata": {},
   "source": [
    "### Alternate Hypothesis : There is an increase in sales after implementing digital marketing. "
   ]
  },
  {
   "cell_type": "code",
   "execution_count": 7,
   "id": "6808ba93",
   "metadata": {},
   "outputs": [],
   "source": [
    "import statistics as stat                   #importing statistics library"
   ]
  },
  {
   "cell_type": "code",
   "execution_count": 20,
   "id": "9ea51f27",
   "metadata": {},
   "outputs": [],
   "source": [
    "from scipy.stats import ttest_rel           #importing stats module from scipy library along with ttest_rel function from scipy\n",
    "                                             # ttest_rel is the function for paired T-test"
   ]
  },
  {
   "cell_type": "code",
   "execution_count": 9,
   "id": "46c216d8",
   "metadata": {},
   "outputs": [],
   "source": [
    "t_stat,p_value=ttest_rel(data['Sales_before_digital_add(in $)'],data['Sales_After_digital_add(in $)']) # sales before and sales after digital_add are given as parameters"
   ]
  },
  {
   "cell_type": "code",
   "execution_count": 23,
   "id": "d4045f69",
   "metadata": {},
   "outputs": [
    {
     "data": {
      "text/plain": [
       "-12.09070525287017"
      ]
     },
     "execution_count": 23,
     "metadata": {},
     "output_type": "execute_result"
    }
   ],
   "source": [
    "t_stat                                      # t-statistical value"
   ]
  },
  {
   "cell_type": "code",
   "execution_count": 22,
   "id": "5197c80f",
   "metadata": {},
   "outputs": [
    {
     "data": {
      "text/plain": [
       "6.336667004575778e-11"
      ]
     },
     "execution_count": 22,
     "metadata": {},
     "output_type": "execute_result"
    }
   ],
   "source": [
    "p_value                                     # probability value"
   ]
  },
  {
   "cell_type": "code",
   "execution_count": 21,
   "id": "eac84017",
   "metadata": {},
   "outputs": [
    {
     "name": "stdout",
     "output_type": "stream",
     "text": [
      "Null Hypothesis Rejected\n"
     ]
    }
   ],
   "source": [
    "if p_value<0.05:                            # Here, the significance level is taken as 0.05\n",
    "    print(\"Null Hypothesis Rejected\")\n",
    "else:\n",
    "    print(\"Null Hypothesis Accepted\")"
   ]
  },
  {
   "cell_type": "markdown",
   "id": "fdf71a45",
   "metadata": {},
   "source": [
    "### Based on the results of the  paired T-test, where the null hypothesis was rejected, we can confidently state that there is a statistically significant increase in sales after implementing digital marketing. This indicates that the company's decision to invest in digital marketing has had a positive impact on their sales performance."
   ]
  },
  {
   "cell_type": "markdown",
   "id": "90e520d5",
   "metadata": {},
   "source": [
    "# Case-2"
   ]
  },
  {
   "cell_type": "markdown",
   "id": "05e05909",
   "metadata": {},
   "source": [
    "## Q.2.  To check whether there is any dependency between the features “Region” and                            “Manager”."
   ]
  },
  {
   "cell_type": "markdown",
   "id": "59ff4f5c",
   "metadata": {},
   "source": [
    "### Null Hypothesis : There is no dependency between the features \"Region\" and \"Manager.\""
   ]
  },
  {
   "cell_type": "markdown",
   "id": "35faf81b",
   "metadata": {},
   "source": [
    "### Alternate Hypothesis : There is a dependency between the features \"Region\" and \"Manager\"."
   ]
  },
  {
   "cell_type": "code",
   "execution_count": 13,
   "id": "eb75f67b",
   "metadata": {},
   "outputs": [],
   "source": [
    "from scipy.stats import chi2_contingency                 # importing chi2_contigency function from scipy\n",
    "                                                         # chi2_contingency is the function for chi-square test of independence"
   ]
  },
  {
   "cell_type": "code",
   "execution_count": 14,
   "id": "7373a493",
   "metadata": {},
   "outputs": [],
   "source": [
    "contingency_table=pd.crosstab(data['Region'],data['Manager'])  #creating contingency_table using crosstab"
   ]
  },
  {
   "cell_type": "code",
   "execution_count": 15,
   "id": "cceec063",
   "metadata": {},
   "outputs": [
    {
     "data": {
      "text/html": [
       "<div>\n",
       "<style scoped>\n",
       "    .dataframe tbody tr th:only-of-type {\n",
       "        vertical-align: middle;\n",
       "    }\n",
       "\n",
       "    .dataframe tbody tr th {\n",
       "        vertical-align: top;\n",
       "    }\n",
       "\n",
       "    .dataframe thead th {\n",
       "        text-align: right;\n",
       "    }\n",
       "</style>\n",
       "<table border=\"1\" class=\"dataframe\">\n",
       "  <thead>\n",
       "    <tr style=\"text-align: right;\">\n",
       "      <th>Manager</th>\n",
       "      <th>Manager - A</th>\n",
       "      <th>Manager - B</th>\n",
       "      <th>Manager - C</th>\n",
       "    </tr>\n",
       "    <tr>\n",
       "      <th>Region</th>\n",
       "      <th></th>\n",
       "      <th></th>\n",
       "      <th></th>\n",
       "    </tr>\n",
       "  </thead>\n",
       "  <tbody>\n",
       "    <tr>\n",
       "      <th>Region - A</th>\n",
       "      <td>4</td>\n",
       "      <td>3</td>\n",
       "      <td>3</td>\n",
       "    </tr>\n",
       "    <tr>\n",
       "      <th>Region - B</th>\n",
       "      <td>4</td>\n",
       "      <td>1</td>\n",
       "      <td>2</td>\n",
       "    </tr>\n",
       "    <tr>\n",
       "      <th>Region - C</th>\n",
       "      <td>1</td>\n",
       "      <td>3</td>\n",
       "      <td>1</td>\n",
       "    </tr>\n",
       "  </tbody>\n",
       "</table>\n",
       "</div>"
      ],
      "text/plain": [
       "Manager     Manager - A  Manager - B  Manager - C\n",
       "Region                                           \n",
       "Region - A            4            3            3\n",
       "Region - B            4            1            2\n",
       "Region - C            1            3            1"
      ]
     },
     "execution_count": 15,
     "metadata": {},
     "output_type": "execute_result"
    }
   ],
   "source": [
    "contingency_table"
   ]
  },
  {
   "cell_type": "code",
   "execution_count": 16,
   "id": "e62b1b98",
   "metadata": {},
   "outputs": [],
   "source": [
    "chi_stat,p_val,dof,exp_val=chi2_contingency(contingency_table)  # contingency_table as parameter to the function"
   ]
  },
  {
   "cell_type": "code",
   "execution_count": 17,
   "id": "e74da65d",
   "metadata": {},
   "outputs": [
    {
     "name": "stdout",
     "output_type": "stream",
     "text": [
      "3.050566893424036 0.5493991051158094 4 [[4.09090909 3.18181818 2.72727273]\n",
      " [2.86363636 2.22727273 1.90909091]\n",
      " [2.04545455 1.59090909 1.36363636]]\n"
     ]
    }
   ],
   "source": [
    "print(chi_stat,p_val,dof,exp_val)"
   ]
  },
  {
   "cell_type": "code",
   "execution_count": 24,
   "id": "59b30a4b",
   "metadata": {},
   "outputs": [
    {
     "data": {
      "text/plain": [
       "0.5493991051158094"
      ]
     },
     "execution_count": 24,
     "metadata": {},
     "output_type": "execute_result"
    }
   ],
   "source": [
    "p_val"
   ]
  },
  {
   "cell_type": "code",
   "execution_count": 25,
   "id": "48df0b16",
   "metadata": {},
   "outputs": [
    {
     "name": "stdout",
     "output_type": "stream",
     "text": [
      "Null Hypothesis Accepted\n"
     ]
    }
   ],
   "source": [
    "if p_val<0.05:                # Here,the significance level is taken as 0.05\n",
    "    print(\"Null Hypothesis Rejected\")\n",
    "else:\n",
    "    print(\"Null Hypothesis Accepted\")"
   ]
  },
  {
   "cell_type": "markdown",
   "id": "0aee6d14",
   "metadata": {},
   "source": [
    "### Based on the result of chi-square of test of independence, where the null hypothesis was accepted, it implies that there is no significant relationship or dependency between the features \"Region\" and \"Manager\". This suggests that the two features are independent of each other."
   ]
  },
  {
   "cell_type": "code",
   "execution_count": null,
   "id": "528f0b7e",
   "metadata": {},
   "outputs": [],
   "source": []
  }
 ],
 "metadata": {
  "kernelspec": {
   "display_name": "Python 3 (ipykernel)",
   "language": "python",
   "name": "python3"
  },
  "language_info": {
   "codemirror_mode": {
    "name": "ipython",
    "version": 3
   },
   "file_extension": ".py",
   "mimetype": "text/x-python",
   "name": "python",
   "nbconvert_exporter": "python",
   "pygments_lexer": "ipython3",
   "version": "3.10.9"
  }
 },
 "nbformat": 4,
 "nbformat_minor": 5
}
