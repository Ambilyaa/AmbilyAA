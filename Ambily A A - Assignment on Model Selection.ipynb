{
 "cells": [
  {
   "cell_type": "markdown",
   "id": "25d591a8",
   "metadata": {},
   "source": [
    "# Assignment on Model Selection"
   ]
  },
  {
   "cell_type": "markdown",
   "id": "b3015c2b",
   "metadata": {},
   "source": [
    "## Q.1. Load the dataset in to Python environment"
   ]
  },
  {
   "cell_type": "code",
   "execution_count": 1,
   "id": "f68e6519",
   "metadata": {},
   "outputs": [],
   "source": [
    "# importing all essential libraries\n",
    "import pandas as pd\n",
    "import numpy as np\n",
    "import matplotlib.pyplot as plt\n",
    "import seaborn as sns    \n",
    "import warnings\n"
   ]
  },
  {
   "cell_type": "code",
   "execution_count": 2,
   "id": "d1b18f92",
   "metadata": {},
   "outputs": [],
   "source": [
    "# loading the dataset from local folder\n",
    "data=pd.read_csv(r\"C:\\Users\\Amby\\Downloads\\titanic_dataset.csv\")\n"
   ]
  },
  {
   "cell_type": "markdown",
   "id": "31f65325",
   "metadata": {},
   "source": [
    "### Checking the basic details about the dataset"
   ]
  },
  {
   "cell_type": "code",
   "execution_count": 3,
   "id": "43e2ab31",
   "metadata": {},
   "outputs": [
    {
     "data": {
      "text/html": [
       "<div>\n",
       "<style scoped>\n",
       "    .dataframe tbody tr th:only-of-type {\n",
       "        vertical-align: middle;\n",
       "    }\n",
       "\n",
       "    .dataframe tbody tr th {\n",
       "        vertical-align: top;\n",
       "    }\n",
       "\n",
       "    .dataframe thead th {\n",
       "        text-align: right;\n",
       "    }\n",
       "</style>\n",
       "<table border=\"1\" class=\"dataframe\">\n",
       "  <thead>\n",
       "    <tr style=\"text-align: right;\">\n",
       "      <th></th>\n",
       "      <th>PassengerId</th>\n",
       "      <th>Survived</th>\n",
       "      <th>Pclass</th>\n",
       "      <th>Name</th>\n",
       "      <th>Sex</th>\n",
       "      <th>Age</th>\n",
       "      <th>SibSp</th>\n",
       "      <th>Parch</th>\n",
       "      <th>Ticket</th>\n",
       "      <th>Fare</th>\n",
       "      <th>Cabin</th>\n",
       "      <th>Embarked</th>\n",
       "    </tr>\n",
       "  </thead>\n",
       "  <tbody>\n",
       "    <tr>\n",
       "      <th>0</th>\n",
       "      <td>1</td>\n",
       "      <td>0</td>\n",
       "      <td>3</td>\n",
       "      <td>Braund, Mr. Owen Harris</td>\n",
       "      <td>male</td>\n",
       "      <td>22.0</td>\n",
       "      <td>1</td>\n",
       "      <td>0</td>\n",
       "      <td>A/5 21171</td>\n",
       "      <td>7.2500</td>\n",
       "      <td>NaN</td>\n",
       "      <td>S</td>\n",
       "    </tr>\n",
       "    <tr>\n",
       "      <th>1</th>\n",
       "      <td>2</td>\n",
       "      <td>1</td>\n",
       "      <td>1</td>\n",
       "      <td>Cumings, Mrs. John Bradley (Florence Briggs Th...</td>\n",
       "      <td>female</td>\n",
       "      <td>38.0</td>\n",
       "      <td>1</td>\n",
       "      <td>0</td>\n",
       "      <td>PC 17599</td>\n",
       "      <td>71.2833</td>\n",
       "      <td>C85</td>\n",
       "      <td>C</td>\n",
       "    </tr>\n",
       "    <tr>\n",
       "      <th>2</th>\n",
       "      <td>3</td>\n",
       "      <td>1</td>\n",
       "      <td>3</td>\n",
       "      <td>Heikkinen, Miss. Laina</td>\n",
       "      <td>female</td>\n",
       "      <td>26.0</td>\n",
       "      <td>0</td>\n",
       "      <td>0</td>\n",
       "      <td>STON/O2. 3101282</td>\n",
       "      <td>7.9250</td>\n",
       "      <td>NaN</td>\n",
       "      <td>S</td>\n",
       "    </tr>\n",
       "    <tr>\n",
       "      <th>3</th>\n",
       "      <td>4</td>\n",
       "      <td>1</td>\n",
       "      <td>1</td>\n",
       "      <td>Futrelle, Mrs. Jacques Heath (Lily May Peel)</td>\n",
       "      <td>female</td>\n",
       "      <td>35.0</td>\n",
       "      <td>1</td>\n",
       "      <td>0</td>\n",
       "      <td>113803</td>\n",
       "      <td>53.1000</td>\n",
       "      <td>C123</td>\n",
       "      <td>S</td>\n",
       "    </tr>\n",
       "    <tr>\n",
       "      <th>4</th>\n",
       "      <td>5</td>\n",
       "      <td>0</td>\n",
       "      <td>3</td>\n",
       "      <td>Allen, Mr. William Henry</td>\n",
       "      <td>male</td>\n",
       "      <td>35.0</td>\n",
       "      <td>0</td>\n",
       "      <td>0</td>\n",
       "      <td>373450</td>\n",
       "      <td>8.0500</td>\n",
       "      <td>NaN</td>\n",
       "      <td>S</td>\n",
       "    </tr>\n",
       "  </tbody>\n",
       "</table>\n",
       "</div>"
      ],
      "text/plain": [
       "   PassengerId  Survived  Pclass  \\\n",
       "0            1         0       3   \n",
       "1            2         1       1   \n",
       "2            3         1       3   \n",
       "3            4         1       1   \n",
       "4            5         0       3   \n",
       "\n",
       "                                                Name     Sex   Age  SibSp  \\\n",
       "0                            Braund, Mr. Owen Harris    male  22.0      1   \n",
       "1  Cumings, Mrs. John Bradley (Florence Briggs Th...  female  38.0      1   \n",
       "2                             Heikkinen, Miss. Laina  female  26.0      0   \n",
       "3       Futrelle, Mrs. Jacques Heath (Lily May Peel)  female  35.0      1   \n",
       "4                           Allen, Mr. William Henry    male  35.0      0   \n",
       "\n",
       "   Parch            Ticket     Fare Cabin Embarked  \n",
       "0      0         A/5 21171   7.2500   NaN        S  \n",
       "1      0          PC 17599  71.2833   C85        C  \n",
       "2      0  STON/O2. 3101282   7.9250   NaN        S  \n",
       "3      0            113803  53.1000  C123        S  \n",
       "4      0            373450   8.0500   NaN        S  "
      ]
     },
     "execution_count": 3,
     "metadata": {},
     "output_type": "execute_result"
    }
   ],
   "source": [
    "data.head()   #displays all columns and first five rows"
   ]
  },
  {
   "cell_type": "code",
   "execution_count": 4,
   "id": "26d539e6",
   "metadata": {},
   "outputs": [
    {
     "data": {
      "text/plain": [
       "(891, 12)"
      ]
     },
     "execution_count": 4,
     "metadata": {},
     "output_type": "execute_result"
    }
   ],
   "source": [
    "data.shape  # displays total no: of rows and columns"
   ]
  },
  {
   "cell_type": "code",
   "execution_count": 5,
   "id": "c1e32dfb",
   "metadata": {},
   "outputs": [
    {
     "name": "stdout",
     "output_type": "stream",
     "text": [
      "<class 'pandas.core.frame.DataFrame'>\n",
      "RangeIndex: 891 entries, 0 to 890\n",
      "Data columns (total 12 columns):\n",
      " #   Column       Non-Null Count  Dtype  \n",
      "---  ------       --------------  -----  \n",
      " 0   PassengerId  891 non-null    int64  \n",
      " 1   Survived     891 non-null    int64  \n",
      " 2   Pclass       891 non-null    int64  \n",
      " 3   Name         891 non-null    object \n",
      " 4   Sex          891 non-null    object \n",
      " 5   Age          714 non-null    float64\n",
      " 6   SibSp        891 non-null    int64  \n",
      " 7   Parch        891 non-null    int64  \n",
      " 8   Ticket       891 non-null    object \n",
      " 9   Fare         891 non-null    float64\n",
      " 10  Cabin        204 non-null    object \n",
      " 11  Embarked     889 non-null    object \n",
      "dtypes: float64(2), int64(5), object(5)\n",
      "memory usage: 83.7+ KB\n"
     ]
    }
   ],
   "source": [
    "data.info()"
   ]
  },
  {
   "cell_type": "code",
   "execution_count": 6,
   "id": "f1faad39",
   "metadata": {},
   "outputs": [
    {
     "data": {
      "text/plain": [
       "891"
      ]
     },
     "execution_count": 6,
     "metadata": {},
     "output_type": "execute_result"
    }
   ],
   "source": [
    "data.PassengerId.nunique()"
   ]
  },
  {
   "cell_type": "markdown",
   "id": "6c7ce299",
   "metadata": {},
   "source": [
    "#### The column 'PassengerId' has unique values starting from 1 to 891. Since this column doesnot contribute anything to the model, we can drop this column."
   ]
  },
  {
   "cell_type": "markdown",
   "id": "04fc2d47",
   "metadata": {},
   "source": [
    "### Dropping 'PassengerId' column"
   ]
  },
  {
   "cell_type": "code",
   "execution_count": 7,
   "id": "b08a0ccf",
   "metadata": {},
   "outputs": [
    {
     "data": {
      "text/html": [
       "<div>\n",
       "<style scoped>\n",
       "    .dataframe tbody tr th:only-of-type {\n",
       "        vertical-align: middle;\n",
       "    }\n",
       "\n",
       "    .dataframe tbody tr th {\n",
       "        vertical-align: top;\n",
       "    }\n",
       "\n",
       "    .dataframe thead th {\n",
       "        text-align: right;\n",
       "    }\n",
       "</style>\n",
       "<table border=\"1\" class=\"dataframe\">\n",
       "  <thead>\n",
       "    <tr style=\"text-align: right;\">\n",
       "      <th></th>\n",
       "      <th>Survived</th>\n",
       "      <th>Pclass</th>\n",
       "      <th>Name</th>\n",
       "      <th>Sex</th>\n",
       "      <th>Age</th>\n",
       "      <th>SibSp</th>\n",
       "      <th>Parch</th>\n",
       "      <th>Ticket</th>\n",
       "      <th>Fare</th>\n",
       "      <th>Cabin</th>\n",
       "      <th>Embarked</th>\n",
       "    </tr>\n",
       "  </thead>\n",
       "  <tbody>\n",
       "    <tr>\n",
       "      <th>0</th>\n",
       "      <td>0</td>\n",
       "      <td>3</td>\n",
       "      <td>Braund, Mr. Owen Harris</td>\n",
       "      <td>male</td>\n",
       "      <td>22.0</td>\n",
       "      <td>1</td>\n",
       "      <td>0</td>\n",
       "      <td>A/5 21171</td>\n",
       "      <td>7.2500</td>\n",
       "      <td>NaN</td>\n",
       "      <td>S</td>\n",
       "    </tr>\n",
       "    <tr>\n",
       "      <th>1</th>\n",
       "      <td>1</td>\n",
       "      <td>1</td>\n",
       "      <td>Cumings, Mrs. John Bradley (Florence Briggs Th...</td>\n",
       "      <td>female</td>\n",
       "      <td>38.0</td>\n",
       "      <td>1</td>\n",
       "      <td>0</td>\n",
       "      <td>PC 17599</td>\n",
       "      <td>71.2833</td>\n",
       "      <td>C85</td>\n",
       "      <td>C</td>\n",
       "    </tr>\n",
       "    <tr>\n",
       "      <th>2</th>\n",
       "      <td>1</td>\n",
       "      <td>3</td>\n",
       "      <td>Heikkinen, Miss. Laina</td>\n",
       "      <td>female</td>\n",
       "      <td>26.0</td>\n",
       "      <td>0</td>\n",
       "      <td>0</td>\n",
       "      <td>STON/O2. 3101282</td>\n",
       "      <td>7.9250</td>\n",
       "      <td>NaN</td>\n",
       "      <td>S</td>\n",
       "    </tr>\n",
       "    <tr>\n",
       "      <th>3</th>\n",
       "      <td>1</td>\n",
       "      <td>1</td>\n",
       "      <td>Futrelle, Mrs. Jacques Heath (Lily May Peel)</td>\n",
       "      <td>female</td>\n",
       "      <td>35.0</td>\n",
       "      <td>1</td>\n",
       "      <td>0</td>\n",
       "      <td>113803</td>\n",
       "      <td>53.1000</td>\n",
       "      <td>C123</td>\n",
       "      <td>S</td>\n",
       "    </tr>\n",
       "    <tr>\n",
       "      <th>4</th>\n",
       "      <td>0</td>\n",
       "      <td>3</td>\n",
       "      <td>Allen, Mr. William Henry</td>\n",
       "      <td>male</td>\n",
       "      <td>35.0</td>\n",
       "      <td>0</td>\n",
       "      <td>0</td>\n",
       "      <td>373450</td>\n",
       "      <td>8.0500</td>\n",
       "      <td>NaN</td>\n",
       "      <td>S</td>\n",
       "    </tr>\n",
       "  </tbody>\n",
       "</table>\n",
       "</div>"
      ],
      "text/plain": [
       "   Survived  Pclass                                               Name  \\\n",
       "0         0       3                            Braund, Mr. Owen Harris   \n",
       "1         1       1  Cumings, Mrs. John Bradley (Florence Briggs Th...   \n",
       "2         1       3                             Heikkinen, Miss. Laina   \n",
       "3         1       1       Futrelle, Mrs. Jacques Heath (Lily May Peel)   \n",
       "4         0       3                           Allen, Mr. William Henry   \n",
       "\n",
       "      Sex   Age  SibSp  Parch            Ticket     Fare Cabin Embarked  \n",
       "0    male  22.0      1      0         A/5 21171   7.2500   NaN        S  \n",
       "1  female  38.0      1      0          PC 17599  71.2833   C85        C  \n",
       "2  female  26.0      0      0  STON/O2. 3101282   7.9250   NaN        S  \n",
       "3  female  35.0      1      0            113803  53.1000  C123        S  \n",
       "4    male  35.0      0      0            373450   8.0500   NaN        S  "
      ]
     },
     "execution_count": 7,
     "metadata": {},
     "output_type": "execute_result"
    }
   ],
   "source": [
    "data.drop('PassengerId',axis=1,inplace=True)\n",
    "data.head()"
   ]
  },
  {
   "cell_type": "code",
   "execution_count": 8,
   "id": "cee60966",
   "metadata": {},
   "outputs": [
    {
     "data": {
      "text/plain": [
       "0    549\n",
       "1    342\n",
       "Name: Survived, dtype: int64"
      ]
     },
     "execution_count": 8,
     "metadata": {},
     "output_type": "execute_result"
    }
   ],
   "source": [
    "data['Survived'].value_counts() # displays the counts of unique values"
   ]
  },
  {
   "cell_type": "markdown",
   "id": "a0e1de3c",
   "metadata": {},
   "source": [
    "## Q.2.Do all the necessary pre-processing steps"
   ]
  },
  {
   "cell_type": "markdown",
   "id": "205c2b09",
   "metadata": {},
   "source": [
    "### Missing Value Handling"
   ]
  },
  {
   "cell_type": "code",
   "execution_count": 9,
   "id": "59c5ff01",
   "metadata": {},
   "outputs": [
    {
     "data": {
      "text/plain": [
       "Survived      0\n",
       "Pclass        0\n",
       "Name          0\n",
       "Sex           0\n",
       "Age         177\n",
       "SibSp         0\n",
       "Parch         0\n",
       "Ticket        0\n",
       "Fare          0\n",
       "Cabin       687\n",
       "Embarked      2\n",
       "dtype: int64"
      ]
     },
     "execution_count": 9,
     "metadata": {},
     "output_type": "execute_result"
    }
   ],
   "source": [
    "data.isna().sum()   # checking for missing values"
   ]
  },
  {
   "cell_type": "markdown",
   "id": "c50d500c",
   "metadata": {},
   "source": [
    "#### The dataset has missing values in 'Age', 'Cabin' and 'Embarked' columns."
   ]
  },
  {
   "cell_type": "markdown",
   "id": "2c2544a2",
   "metadata": {},
   "source": [
    "#### Since, the 'Cabin' column has around 70% of null values, we can drop that column too instead of filling it with median or mode."
   ]
  },
  {
   "cell_type": "code",
   "execution_count": 10,
   "id": "6bddbad3",
   "metadata": {},
   "outputs": [],
   "source": [
    "data.drop('Cabin',axis=1,inplace=True)"
   ]
  },
  {
   "cell_type": "markdown",
   "id": "0bc89199",
   "metadata": {},
   "source": [
    "### Filling the missing values with median and mode for numerical column and categorical columns respectively"
   ]
  },
  {
   "cell_type": "code",
   "execution_count": 11,
   "id": "8d5a12ba",
   "metadata": {},
   "outputs": [],
   "source": [
    "# filling the missing values with median of 'Age' data\n",
    "data[\"Age\"]=data['Age'].fillna(data['Age'].median())\n",
    "# filling the missing values with mode of categorical data\n",
    "data['Embarked']=data['Embarked'].fillna(data['Embarked'].mode()[0])"
   ]
  },
  {
   "cell_type": "code",
   "execution_count": 12,
   "id": "43575812",
   "metadata": {},
   "outputs": [
    {
     "data": {
      "text/plain": [
       "Survived    0\n",
       "Pclass      0\n",
       "Name        0\n",
       "Sex         0\n",
       "Age         0\n",
       "SibSp       0\n",
       "Parch       0\n",
       "Ticket      0\n",
       "Fare        0\n",
       "Embarked    0\n",
       "dtype: int64"
      ]
     },
     "execution_count": 12,
     "metadata": {},
     "output_type": "execute_result"
    }
   ],
   "source": [
    "data.isna().sum()"
   ]
  },
  {
   "cell_type": "markdown",
   "id": "0b1a307c",
   "metadata": {},
   "source": [
    "#### Now, there is no missing values in the dataset."
   ]
  },
  {
   "cell_type": "code",
   "execution_count": 13,
   "id": "40819526",
   "metadata": {},
   "outputs": [
    {
     "data": {
      "text/plain": [
       "(891, 10)"
      ]
     },
     "execution_count": 13,
     "metadata": {},
     "output_type": "execute_result"
    }
   ],
   "source": [
    "data.shape"
   ]
  },
  {
   "cell_type": "code",
   "execution_count": 14,
   "id": "f244959b",
   "metadata": {},
   "outputs": [
    {
     "data": {
      "text/plain": [
       "891"
      ]
     },
     "execution_count": 14,
     "metadata": {},
     "output_type": "execute_result"
    }
   ],
   "source": [
    "data['Name'].nunique()"
   ]
  },
  {
   "cell_type": "code",
   "execution_count": 15,
   "id": "1d662cc1",
   "metadata": {},
   "outputs": [
    {
     "data": {
      "text/plain": [
       "681"
      ]
     },
     "execution_count": 15,
     "metadata": {},
     "output_type": "execute_result"
    }
   ],
   "source": [
    "data['Ticket'].nunique()"
   ]
  },
  {
   "cell_type": "markdown",
   "id": "16075dd6",
   "metadata": {},
   "source": [
    "#### Since all the values in column 'Name' and around 70% of values in column 'Ticket' are unique, it will not contribute anything to the model, we can drop that columns also."
   ]
  },
  {
   "cell_type": "code",
   "execution_count": 16,
   "id": "c143bd9f",
   "metadata": {},
   "outputs": [],
   "source": [
    "data.drop(['Name','Ticket'],axis=1,inplace=True)"
   ]
  },
  {
   "cell_type": "code",
   "execution_count": 17,
   "id": "54df0c83",
   "metadata": {},
   "outputs": [
    {
     "data": {
      "text/html": [
       "<div>\n",
       "<style scoped>\n",
       "    .dataframe tbody tr th:only-of-type {\n",
       "        vertical-align: middle;\n",
       "    }\n",
       "\n",
       "    .dataframe tbody tr th {\n",
       "        vertical-align: top;\n",
       "    }\n",
       "\n",
       "    .dataframe thead th {\n",
       "        text-align: right;\n",
       "    }\n",
       "</style>\n",
       "<table border=\"1\" class=\"dataframe\">\n",
       "  <thead>\n",
       "    <tr style=\"text-align: right;\">\n",
       "      <th></th>\n",
       "      <th>Survived</th>\n",
       "      <th>Pclass</th>\n",
       "      <th>Sex</th>\n",
       "      <th>Age</th>\n",
       "      <th>SibSp</th>\n",
       "      <th>Parch</th>\n",
       "      <th>Fare</th>\n",
       "      <th>Embarked</th>\n",
       "    </tr>\n",
       "  </thead>\n",
       "  <tbody>\n",
       "    <tr>\n",
       "      <th>0</th>\n",
       "      <td>0</td>\n",
       "      <td>3</td>\n",
       "      <td>male</td>\n",
       "      <td>22.0</td>\n",
       "      <td>1</td>\n",
       "      <td>0</td>\n",
       "      <td>7.2500</td>\n",
       "      <td>S</td>\n",
       "    </tr>\n",
       "    <tr>\n",
       "      <th>1</th>\n",
       "      <td>1</td>\n",
       "      <td>1</td>\n",
       "      <td>female</td>\n",
       "      <td>38.0</td>\n",
       "      <td>1</td>\n",
       "      <td>0</td>\n",
       "      <td>71.2833</td>\n",
       "      <td>C</td>\n",
       "    </tr>\n",
       "    <tr>\n",
       "      <th>2</th>\n",
       "      <td>1</td>\n",
       "      <td>3</td>\n",
       "      <td>female</td>\n",
       "      <td>26.0</td>\n",
       "      <td>0</td>\n",
       "      <td>0</td>\n",
       "      <td>7.9250</td>\n",
       "      <td>S</td>\n",
       "    </tr>\n",
       "    <tr>\n",
       "      <th>3</th>\n",
       "      <td>1</td>\n",
       "      <td>1</td>\n",
       "      <td>female</td>\n",
       "      <td>35.0</td>\n",
       "      <td>1</td>\n",
       "      <td>0</td>\n",
       "      <td>53.1000</td>\n",
       "      <td>S</td>\n",
       "    </tr>\n",
       "    <tr>\n",
       "      <th>4</th>\n",
       "      <td>0</td>\n",
       "      <td>3</td>\n",
       "      <td>male</td>\n",
       "      <td>35.0</td>\n",
       "      <td>0</td>\n",
       "      <td>0</td>\n",
       "      <td>8.0500</td>\n",
       "      <td>S</td>\n",
       "    </tr>\n",
       "  </tbody>\n",
       "</table>\n",
       "</div>"
      ],
      "text/plain": [
       "   Survived  Pclass     Sex   Age  SibSp  Parch     Fare Embarked\n",
       "0         0       3    male  22.0      1      0   7.2500        S\n",
       "1         1       1  female  38.0      1      0  71.2833        C\n",
       "2         1       3  female  26.0      0      0   7.9250        S\n",
       "3         1       1  female  35.0      1      0  53.1000        S\n",
       "4         0       3    male  35.0      0      0   8.0500        S"
      ]
     },
     "execution_count": 17,
     "metadata": {},
     "output_type": "execute_result"
    }
   ],
   "source": [
    "data.head()"
   ]
  },
  {
   "cell_type": "markdown",
   "id": "84c68394",
   "metadata": {},
   "source": [
    "### Outlier Handling"
   ]
  },
  {
   "cell_type": "code",
   "execution_count": 18,
   "id": "7d0230c7",
   "metadata": {},
   "outputs": [
    {
     "data": {
      "image/png": "[encoded data removed]",
      "text/plain": [
       "<Figure size 640x480 with 1 Axes>"
      ]
     },
     "metadata": {},
     "output_type": "display_data"
    },
    {
     "data": {
      "image/png": "[encoded data removed]",
      "text/plain": [
       "<Figure size 640x480 with 1 Axes>"
      ]
     },
     "metadata": {},
     "output_type": "display_data"
    },
    {
     "data": {
      "image/png": "[encoded data removed]",
      "text/plain": [
       "<Figure size 640x480 with 1 Axes>"
      ]
     },
     "metadata": {},
     "output_type": "display_data"
    },
    {
     "data": {
      "image/png": "[encoded data removed]",
      "text/plain": [
       "<Figure size 640x480 with 1 Axes>"
      ]
     },
     "metadata": {},
     "output_type": "display_data"
    },
    {
     "data": {
      "image/png": "[encoded data removed]",
      "text/plain": [
       "<Figure size 640x480 with 1 Axes>"
      ]
     },
     "metadata": {},
     "output_type": "display_data"
    },
    {
     "data": {
      "image/png": "[encoded data removed]",
      "text/plain": [
       "<Figure size 640x480 with 1 Axes>"
      ]
     },
     "metadata": {},
     "output_type": "display_data"
    }
   ],
   "source": [
    "num_data=['Survived','Pclass','Age','SibSp','Parch','Fare']\n",
    "for i in num_data:\n",
    "    plt.boxplot(data[i])\n",
    "    plt.title(i)\n",
    "    plt.show()"
   ]
  },
  {
   "cell_type": "code",
   "execution_count": 19,
   "id": "c3b9bd34",
   "metadata": {},
   "outputs": [],
   "source": [
    "from sklearn.preprocessing import RobustScaler\n",
    "scaler=RobustScaler()\n",
    "num_cols=['Age','Fare']\n",
    "data[num_cols]=scaler.fit_transform(data[num_cols])\n"
   ]
  },
  {
   "cell_type": "code",
   "execution_count": 51,
   "id": "802eb665",
   "metadata": {},
   "outputs": [],
   "source": [
    "Q1_P=np.percentile(data['Parch'],25,interpolation='midpoint')\n",
    "Q2_P=np.percentile(data['Parch'],50,interpolation='midpoint')\n",
    "Q3_P=np.percentile(data['Parch'],75,interpolation='midpoint')\n",
    "warnings.filterwarnings('ignore')\n",
    "IQR_P=Q3_P-Q1_P\n",
    "up_lim_P=Q3_P+1.5*IQR_P\n",
    "low_lim_P=Q1_P-1.5*IQR_P\n",
    "data['Parch']=np.where(data['Parch']>up_lim_P,up_lim_P,np.where(data['Parch']<low_lim_P,low_lim_P,data['Parch']))"
   ]
  },
  {
   "cell_type": "code",
   "execution_count": 21,
   "id": "577c4b77",
   "metadata": {},
   "outputs": [],
   "source": [
    "Q1_S=np.percentile(data['SibSp'],25,interpolation='midpoint')\n",
    "Q2_S=np.percentile(data['SibSp'],50,interpolation='midpoint')\n",
    "Q3_S=np.percentile(data['SibSp'],75,interpolation='midpoint')\n",
    "warnings.filterwarnings('ignore')\n",
    "IQR_S=Q3_S-Q1_S\n",
    "up_lim_S=Q3_S+1.5*IQR_S\n",
    "low_lim_S=Q1_S-1.5*IQR_S\n",
    "data['SibSp']=np.where(data['SibSp']>up_lim_S,up_lim_S,np.where(data['SibSp']<low_lim_S,low_lim_S,data['SibSp']))"
   ]
  },
  {
   "cell_type": "code",
   "execution_count": 22,
   "id": "d98a0b27",
   "metadata": {},
   "outputs": [
    {
     "data": {
      "image/png": "[encoded data removed]",
      "text/plain": [
       "<Figure size 640x480 with 1 Axes>"
      ]
     },
     "metadata": {},
     "output_type": "display_data"
    },
    {
     "data": {
      "image/png": "[encoded data removed]",
      "text/plain": [
       "<Figure size 640x480 with 1 Axes>"
      ]
     },
     "metadata": {},
     "output_type": "display_data"
    },
    {
     "data": {
      "image/png": "[encoded data removed]",
      "text/plain": [
       "<Figure size 640x480 with 1 Axes>"
      ]
     },
     "metadata": {},
     "output_type": "display_data"
    },
    {
     "data": {
      "image/png": "[encoded data removed]",
      "text/plain": [
       "<Figure size 640x480 with 1 Axes>"
      ]
     },
     "metadata": {},
     "output_type": "display_data"
    },
    {
     "data": {
      "image/png": "[encoded data removed]",
      "text/plain": [
       "<Figure size 640x480 with 1 Axes>"
      ]
     },
     "metadata": {},
     "output_type": "display_data"
    },
    {
     "data": {
      "image/png": "[encoded data removed]",
      "text/plain": [
       "<Figure size 640x480 with 1 Axes>"
      ]
     },
     "metadata": {},
     "output_type": "display_data"
    }
   ],
   "source": [
    "num_data=['Survived','Pclass','Age','SibSp','Parch','Fare']\n",
    "for i in num_data:\n",
    "    plt.boxplot(data[i])\n",
    "    plt.title(i)\n",
    "    plt.show()"
   ]
  },
  {
   "cell_type": "markdown",
   "id": "06a58a07",
   "metadata": {},
   "source": [
    "#### For the columns 'Parch' and 'SibSp', we apply flooring and  mapping to handle the outliers . Since there are more no: of outliers in 'Age' And 'Fare' , and the data in that columns are significantly important, we applied RobustScaler technique. This technique mitigates the influence of outliers on the data."
   ]
  },
  {
   "cell_type": "markdown",
   "id": "8702f480",
   "metadata": {},
   "source": [
    "### Encoding Categorical Features"
   ]
  },
  {
   "cell_type": "code",
   "execution_count": 23,
   "id": "342eb216",
   "metadata": {},
   "outputs": [],
   "source": [
    "# Label Encoding the categorical features\n",
    "from sklearn.preprocessing import LabelEncoder,StandardScaler\n",
    "le=LabelEncoder()\n",
    "data['Sex']=le.fit_transform(data['Sex'])\n",
    "data['Embarked']=le.fit_transform(data['Embarked'])"
   ]
  },
  {
   "cell_type": "code",
   "execution_count": 24,
   "id": "6bb49be9",
   "metadata": {},
   "outputs": [],
   "source": [
    "# Standard Scaling the 'Age' and 'Fare' columns \n",
    "scaler=StandardScaler()\n",
    "data[['Age','Fare']]=scaler.fit_transform(data[['Age','Fare']])"
   ]
  },
  {
   "cell_type": "markdown",
   "id": "e4186d74",
   "metadata": {},
   "source": [
    "### Splitting the data into feature and Target"
   ]
  },
  {
   "cell_type": "code",
   "execution_count": 25,
   "id": "fe5ec3cf",
   "metadata": {},
   "outputs": [],
   "source": [
    "X=data.drop('Survived',axis=1) #predictor or independent variable\n",
    "y=data['Survived'] # target or dependent variable"
   ]
  },
  {
   "cell_type": "markdown",
   "id": "e9904e15",
   "metadata": {},
   "source": [
    "### Splitting the data into training and testing data"
   ]
  },
  {
   "cell_type": "code",
   "execution_count": 26,
   "id": "c3e9c55c",
   "metadata": {},
   "outputs": [],
   "source": [
    "from sklearn.model_selection import train_test_split\n",
    "X_train,X_test,y_train,y_test=train_test_split(X,y,test_size=0.25,random_state=70)"
   ]
  },
  {
   "cell_type": "markdown",
   "id": "0d699e26",
   "metadata": {},
   "source": [
    "## Q.3. Create k-NN and SVM Models"
   ]
  },
  {
   "cell_type": "markdown",
   "id": "d71768ce",
   "metadata": {},
   "source": [
    "### Implementing k-NN Model"
   ]
  },
  {
   "cell_type": "code",
   "execution_count": 27,
   "id": "0f9d4fad",
   "metadata": {},
   "outputs": [],
   "source": [
    "from sklearn.neighbors import KNeighborsClassifier\n",
    "from sklearn.metrics import precision_score,recall_score,f1_score,accuracy_score,confusion_matrix\n",
    "metric=[]\n",
    "neighbors=np.arange(3,15)\n",
    "for k in neighbors:\n",
    "    classifier=KNeighborsClassifier(n_neighbors=k,metric='minkowski',p=2)\n",
    "    classifier.fit(X_train,y_train)\n",
    "    y_pred_knn=classifier.predict(X_test)\n",
    "    acc=accuracy_score(y_test,y_pred_knn)\n",
    "    metric.append(acc)"
   ]
  },
  {
   "cell_type": "code",
   "execution_count": 28,
   "id": "def51157",
   "metadata": {},
   "outputs": [
    {
     "data": {
      "image/png": "[encoded data removed]",
      "text/plain": [
       "<Figure size 640x480 with 1 Axes>"
      ]
     },
     "metadata": {},
     "output_type": "display_data"
    }
   ],
   "source": [
    "plt.plot(neighbors,metric,'o-')\n",
    "plt.xlabel('k value')\n",
    "plt.ylabel('Accuracy')\n",
    "plt.show()"
   ]
  },
  {
   "cell_type": "markdown",
   "id": "f271a0ff",
   "metadata": {},
   "source": [
    "*The above set of codes calculate and store the accuracy scores for different values of 'k' in the metric list.\n",
    "\n",
    "*After the loop finishes,the accuracy scores are plotted against the no: of neighbors, x-axis represents the no: of neighbors and y-axis represents the accuracy scores.\n",
    "\n",
    "*The resulting plot will show how the accuracy of the k-NN model varies with the different values of 'k', allowing us to determine the optimal no: of neighbors of this model.\n",
    "\n"
   ]
  },
  {
   "cell_type": "code",
   "execution_count": 29,
   "id": "bfe5c08e",
   "metadata": {},
   "outputs": [],
   "source": [
    "# creating a k-NN classifier with n_neighbors=5\n",
    "classifier=KNeighborsClassifier(n_neighbors=5,metric='minkowski',p=2)\n",
    "classifier.fit(X_train,y_train)\n",
    "y_pred_knn=classifier.predict(X_test)"
   ]
  },
  {
   "cell_type": "code",
   "execution_count": 30,
   "id": "196c7b89",
   "metadata": {},
   "outputs": [
    {
     "name": "stdout",
     "output_type": "stream",
     "text": [
      "Precision score:  0.8385650224215246\n",
      "Recall : 0.8385650224215246\n",
      "f1 : 0.8385650224215246\n",
      "Accuracy : 0.8385650224215246\n"
     ]
    }
   ],
   "source": [
    "# Evaluating the k-NN model by finding the metrics\n",
    "print(\"Precision score: \",precision_score(y_test,y_pred_knn,average='micro'))\n",
    "print(\"Recall :\",recall_score(y_test,y_pred_knn,average='micro'))\n",
    "print(\"f1 :\",f1_score(y_test,y_pred_knn,average='micro'))\n",
    "print(\"Accuracy :\",accuracy_score(y_test,y_pred_knn))"
   ]
  },
  {
   "cell_type": "code",
   "execution_count": 31,
   "id": "e9a5f107",
   "metadata": {},
   "outputs": [
    {
     "name": "stdout",
     "output_type": "stream",
     "text": [
      "Confusion Matrix : [[121  10]\n",
      " [ 26  66]]\n"
     ]
    }
   ],
   "source": [
    "print(\"Confusion Matrix :\",confusion_matrix(y_test,y_pred_knn))"
   ]
  },
  {
   "cell_type": "markdown",
   "id": "4b3de067",
   "metadata": {},
   "source": [
    "### Implementing SVM Model"
   ]
  },
  {
   "cell_type": "code",
   "execution_count": 32,
   "id": "af270be0",
   "metadata": {},
   "outputs": [
    {
     "data": {
      "text/html": [
       "<style>#sk-container-id-1 {color: black;background-color: white;}#sk-container-id-1 pre{padding: 0;}#sk-container-id-1 div.sk-toggleable {background-color: white;}#sk-container-id-1 label.sk-toggleable__label {cursor: pointer;display: block;width: 100%;margin-bottom: 0;padding: 0.3em;box-sizing: border-box;text-align: center;}#sk-container-id-1 label.sk-toggleable__label-arrow:before {content: \"▸\";float: left;margin-right: 0.25em;color: #696969;}#sk-container-id-1 label.sk-toggleable__label-arrow:hover:before {color: black;}#sk-container-id-1 div.sk-estimator:hover label.sk-toggleable__label-arrow:before {color: black;}#sk-container-id-1 div.sk-toggleable__content {max-height: 0;max-width: 0;overflow: hidden;text-align: left;background-color: #f0f8ff;}#sk-container-id-1 div.sk-toggleable__content pre {margin: 0.2em;color: black;border-radius: 0.25em;background-color: #f0f8ff;}#sk-container-id-1 input.sk-toggleable__control:checked~div.sk-toggleable__content {max-height: 200px;max-width: 100%;overflow: auto;}#sk-container-id-1 input.sk-toggleable__control:checked~label.sk-toggleable__label-arrow:before {content: \"▾\";}#sk-container-id-1 div.sk-estimator input.sk-toggleable__control:checked~label.sk-toggleable__label {background-color: #d4ebff;}#sk-container-id-1 div.sk-label input.sk-toggleable__control:checked~label.sk-toggleable__label {background-color: #d4ebff;}#sk-container-id-1 input.sk-hidden--visually {border: 0;clip: rect(1px 1px 1px 1px);clip: rect(1px, 1px, 1px, 1px);height: 1px;margin: -1px;overflow: hidden;padding: 0;position: absolute;width: 1px;}#sk-container-id-1 div.sk-estimator {font-family: monospace;background-color: #f0f8ff;border: 1px dotted black;border-radius: 0.25em;box-sizing: border-box;margin-bottom: 0.5em;}#sk-container-id-1 div.sk-estimator:hover {background-color: #d4ebff;}#sk-container-id-1 div.sk-parallel-item::after {content: \"\";width: 100%;border-bottom: 1px solid gray;flex-grow: 1;}#sk-container-id-1 div.sk-label:hover label.sk-toggleable__label {background-color: #d4ebff;}#sk-container-id-1 div.sk-serial::before {content: \"\";position: absolute;border-left: 1px solid gray;box-sizing: border-box;top: 0;bottom: 0;left: 50%;z-index: 0;}#sk-container-id-1 div.sk-serial {display: flex;flex-direction: column;align-items: center;background-color: white;padding-right: 0.2em;padding-left: 0.2em;position: relative;}#sk-container-id-1 div.sk-item {position: relative;z-index: 1;}#sk-container-id-1 div.sk-parallel {display: flex;align-items: stretch;justify-content: center;background-color: white;position: relative;}#sk-container-id-1 div.sk-item::before, #sk-container-id-1 div.sk-parallel-item::before {content: \"\";position: absolute;border-left: 1px solid gray;box-sizing: border-box;top: 0;bottom: 0;left: 50%;z-index: -1;}#sk-container-id-1 div.sk-parallel-item {display: flex;flex-direction: column;z-index: 1;position: relative;background-color: white;}#sk-container-id-1 div.sk-parallel-item:first-child::after {align-self: flex-end;width: 50%;}#sk-container-id-1 div.sk-parallel-item:last-child::after {align-self: flex-start;width: 50%;}#sk-container-id-1 div.sk-parallel-item:only-child::after {width: 0;}#sk-container-id-1 div.sk-dashed-wrapped {border: 1px dashed gray;margin: 0 0.4em 0.5em 0.4em;box-sizing: border-box;padding-bottom: 0.4em;background-color: white;}#sk-container-id-1 div.sk-label label {font-family: monospace;font-weight: bold;display: inline-block;line-height: 1.2em;}#sk-container-id-1 div.sk-label-container {text-align: center;}#sk-container-id-1 div.sk-container {/* jupyter's `normalize.less` sets `[hidden] { display: none; }` but bootstrap.min.css set `[hidden] { display: none !important; }` so we also need the `!important` here to be able to override the default hidden behavior on the sphinx rendered scikit-learn.org. See: https://github.com/scikit-learn/scikit-learn/issues/21755 */display: inline-block !important;position: relative;}#sk-container-id-1 div.sk-text-repr-fallback {display: none;}</style><div id=\"sk-container-id-1\" class=\"sk-top-container\"><div class=\"sk-text-repr-fallback\"><pre>SVC(kernel=&#x27;poly&#x27;)</pre><b>In a Jupyter environment, please rerun this cell to show the HTML representation or trust the notebook. <br />On GitHub, the HTML representation is unable to render, please try loading this page with nbviewer.org.</b></div><div class=\"sk-container\" hidden><div class=\"sk-item\"><div class=\"sk-estimator sk-toggleable\"><input class=\"sk-toggleable__control sk-hidden--visually\" id=\"sk-estimator-id-1\" type=\"checkbox\" checked><label for=\"sk-estimator-id-1\" class=\"sk-toggleable__label sk-toggleable__label-arrow\">SVC</label><div class=\"sk-toggleable__content\"><pre>SVC(kernel=&#x27;poly&#x27;)</pre></div></div></div></div></div>"
      ],
      "text/plain": [
       "SVC(kernel='poly')"
      ]
     },
     "execution_count": 32,
     "metadata": {},
     "output_type": "execute_result"
    }
   ],
   "source": [
    "from sklearn.svm import SVC\n",
    "svmclf=SVC(kernel='poly') # creating an instance SVC class with kernel='poly'\n",
    "svmclf.fit(X_train,y_train)"
   ]
  },
  {
   "cell_type": "code",
   "execution_count": 33,
   "id": "51de83ad",
   "metadata": {},
   "outputs": [],
   "source": [
    "y_pred_svm=svmclf.predict(X_test)"
   ]
  },
  {
   "cell_type": "code",
   "execution_count": 34,
   "id": "0a8e5d25",
   "metadata": {},
   "outputs": [
    {
     "name": "stdout",
     "output_type": "stream",
     "text": [
      "Precision score:  0.8470588235294118\n",
      "Recall : 0.782608695652174\n",
      "f1 : 0.8135593220338984\n",
      "Accuracy : 0.852017937219731\n"
     ]
    }
   ],
   "source": [
    "# Evaluating the SVM model by finding the metrics\n",
    "print(\"Precision score: \",precision_score(y_test,y_pred_svm))\n",
    "print(\"Recall :\",recall_score(y_test,y_pred_svm))\n",
    "print(\"f1 :\",f1_score(y_test,y_pred_svm))\n",
    "print(\"Accuracy :\",accuracy_score(y_test,y_pred_svm))"
   ]
  },
  {
   "cell_type": "code",
   "execution_count": 35,
   "id": "817835d1",
   "metadata": {},
   "outputs": [
    {
     "name": "stdout",
     "output_type": "stream",
     "text": [
      "Confusion Matrix : [[118  13]\n",
      " [ 20  72]]\n"
     ]
    }
   ],
   "source": [
    "print(\"Confusion Matrix :\",confusion_matrix(y_test,y_pred_svm))"
   ]
  },
  {
   "cell_type": "markdown",
   "id": "a1e4f713",
   "metadata": {},
   "source": [
    "#### By comparing the accuracy scores of k-NN and SVM models, the SVM model gives better accuracy score than k-NN model."
   ]
  },
  {
   "cell_type": "markdown",
   "id": "49e32a1b",
   "metadata": {},
   "source": [
    "## Q.4. Do K-fold and Stratified K-Fold Cross validation techniques and find the average accuracy score of the models"
   ]
  },
  {
   "cell_type": "markdown",
   "id": "a469452c",
   "metadata": {},
   "source": [
    "   ### Implementing K-Fold Cross Validation in both models"
   ]
  },
  {
   "cell_type": "code",
   "execution_count": 36,
   "id": "6799214e",
   "metadata": {},
   "outputs": [],
   "source": [
    "from sklearn.model_selection import KFold"
   ]
  },
  {
   "cell_type": "code",
   "execution_count": 37,
   "id": "b6363e60",
   "metadata": {},
   "outputs": [
    {
     "data": {
      "text/plain": [
       "(891, 8)"
      ]
     },
     "execution_count": 37,
     "metadata": {},
     "output_type": "execute_result"
    }
   ],
   "source": [
    "data.shape"
   ]
  },
  {
   "cell_type": "code",
   "execution_count": 38,
   "id": "00de1c58",
   "metadata": {},
   "outputs": [],
   "source": [
    "kfold_validator=KFold(n_splits=10,shuffle=True,random_state=42)"
   ]
  },
  {
   "cell_type": "code",
   "execution_count": 39,
   "id": "cc31d97e",
   "metadata": {},
   "outputs": [],
   "source": [
    "from sklearn.model_selection import cross_val_score\n"
   ]
  },
  {
   "cell_type": "code",
   "execution_count": 40,
   "id": "37d4f4d2",
   "metadata": {},
   "outputs": [
    {
     "data": {
      "text/plain": [
       "array([0.81111111, 0.80898876, 0.82022472, 0.76404494, 0.83146067,\n",
       "       0.86516854, 0.7752809 , 0.7752809 , 0.73033708, 0.86516854])"
      ]
     },
     "execution_count": 40,
     "metadata": {},
     "output_type": "execute_result"
    }
   ],
   "source": [
    "# K=Fold Cross validation on SVM model\n",
    "cv_score_svm=cross_val_score(svmclf,X,y,cv=kfold_validator)\n",
    "cv_score_svm"
   ]
  },
  {
   "cell_type": "code",
   "execution_count": 41,
   "id": "9ba3b406",
   "metadata": {},
   "outputs": [
    {
     "data": {
      "text/plain": [
       "0.8047066167290886"
      ]
     },
     "execution_count": 41,
     "metadata": {},
     "output_type": "execute_result"
    }
   ],
   "source": [
    "np.mean(cv_score_svm) # finding average of the cv_scores"
   ]
  },
  {
   "cell_type": "code",
   "execution_count": 42,
   "id": "4033355b",
   "metadata": {},
   "outputs": [],
   "source": [
    "# K-Fold Cross validation on k-NN model\n",
    "cv_score_knn=cross_val_score(classifier,X,y,cv=kfold_validator)"
   ]
  },
  {
   "cell_type": "code",
   "execution_count": 43,
   "id": "829c6588",
   "metadata": {},
   "outputs": [
    {
     "data": {
      "text/plain": [
       "array([0.84444444, 0.78651685, 0.83146067, 0.79775281, 0.79775281,\n",
       "       0.85393258, 0.79775281, 0.7752809 , 0.75280899, 0.86516854])"
      ]
     },
     "execution_count": 43,
     "metadata": {},
     "output_type": "execute_result"
    }
   ],
   "source": [
    "cv_score_knn"
   ]
  },
  {
   "cell_type": "code",
   "execution_count": 44,
   "id": "7065dda1",
   "metadata": {},
   "outputs": [
    {
     "data": {
      "text/plain": [
       "0.810287141073658"
      ]
     },
     "execution_count": 44,
     "metadata": {},
     "output_type": "execute_result"
    }
   ],
   "source": [
    "np.mean(cv_score_knn) # finding average of cv_scores"
   ]
  },
  {
   "cell_type": "markdown",
   "id": "5879257b",
   "metadata": {},
   "source": [
    "### Implementing Stratified K-Fold Cross Validation"
   ]
  },
  {
   "cell_type": "code",
   "execution_count": 45,
   "id": "ad73ccf8",
   "metadata": {},
   "outputs": [],
   "source": [
    "from sklearn.model_selection import StratifiedKFold"
   ]
  },
  {
   "cell_type": "code",
   "execution_count": 46,
   "id": "d707fdc5",
   "metadata": {},
   "outputs": [],
   "source": [
    "skfold_validator=StratifiedKFold(n_splits=10,shuffle=True,random_state=78)\n"
   ]
  },
  {
   "cell_type": "code",
   "execution_count": 47,
   "id": "ead6eaee",
   "metadata": {},
   "outputs": [
    {
     "data": {
      "text/plain": [
       "array([0.74444444, 0.84269663, 0.78651685, 0.82022472, 0.78651685,\n",
       "       0.79775281, 0.84269663, 0.78651685, 0.84269663, 0.80898876])"
      ]
     },
     "execution_count": 47,
     "metadata": {},
     "output_type": "execute_result"
    }
   ],
   "source": [
    "# Stratified K-Fold cross validation on k-NN Model\n",
    "skcv_score_knn=cross_val_score(classifier,X,y,cv=skfold_validator)\n",
    "skcv_score_knn"
   ]
  },
  {
   "cell_type": "code",
   "execution_count": 48,
   "id": "8991d7be",
   "metadata": {},
   "outputs": [
    {
     "data": {
      "text/plain": [
       "0.8059051186017478"
      ]
     },
     "execution_count": 48,
     "metadata": {},
     "output_type": "execute_result"
    }
   ],
   "source": [
    "np.mean(skcv_score_knn) #finding average of cross validation scores"
   ]
  },
  {
   "cell_type": "code",
   "execution_count": 49,
   "id": "384aa02e",
   "metadata": {},
   "outputs": [
    {
     "data": {
      "text/plain": [
       "array([0.73333333, 0.87640449, 0.79775281, 0.83146067, 0.7752809 ,\n",
       "       0.78651685, 0.82022472, 0.7752809 , 0.86516854, 0.80898876])"
      ]
     },
     "execution_count": 49,
     "metadata": {},
     "output_type": "execute_result"
    }
   ],
   "source": [
    "# Stratified K-Fold cross validation on SVM Model\n",
    "skcv_score_svm=cross_val_score(svmclf,X,y,cv=skfold_validator)\n",
    "skcv_score_svm"
   ]
  },
  {
   "cell_type": "code",
   "execution_count": 50,
   "id": "f791a6f0",
   "metadata": {},
   "outputs": [
    {
     "data": {
      "text/plain": [
       "0.8070411985018726"
      ]
     },
     "execution_count": 50,
     "metadata": {},
     "output_type": "execute_result"
    }
   ],
   "source": [
    "np.mean(skcv_score_svm) #finding average of cross validation scores"
   ]
  },
  {
   "cell_type": "markdown",
   "id": "3a8e8336",
   "metadata": {},
   "source": [
    "#### After both cross validation techniques, SVM model shows better performance than k-NN model."
   ]
  },
  {
   "cell_type": "markdown",
   "id": "20a98f14",
   "metadata": {},
   "source": [
    "#### After performing cross validation, the accuracy scores of both models do not show much improvement, but remain consistently similiar across different folds. It suggests that the model's performance is stable and doesn't significantly vary with different train-test splits. Also, it implies that the models have learned all the available patterns and further optimization may not yield substantial improvements in performance. They may be appropriately balanced in terms of complexity and generalization. Such models avoid overfitting.    "
   ]
  },
  {
   "cell_type": "code",
   "execution_count": null,
   "id": "2fcaf681",
   "metadata": {},
   "outputs": [],
   "source": []
  }
 ],
 "metadata": {
  "kernelspec": {
   "display_name": "Python 3 (ipykernel)",
   "language": "python",
   "name": "python3"
  },
  "language_info": {
   "codemirror_mode": {
    "name": "ipython",
    "version": 3
   },
   "file_extension": ".py",
   "mimetype": "text/x-python",
   "name": "python",
   "nbconvert_exporter": "python",
   "pygments_lexer": "ipython3",
   "version": "3.10.9"
  }
 },
 "nbformat": 4,
 "nbformat_minor": 5
}
