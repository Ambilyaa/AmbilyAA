{
 "cells": [
  {
   "cell_type": "markdown",
   "id": "ffb7504d",
   "metadata": {},
   "source": [
    "## Case Study on Regression"
   ]
  },
  {
   "cell_type": "markdown",
   "id": "c6e9ae85",
   "metadata": {},
   "source": [
    "### We have a dataset of car_age_price that contains information about the price of second-hand Hyundai Grandi10 cars based on their year of making.The objective is to find the best linear relationship between the year and price, and predict the possible price of a 2022 model second-hand Grand i10. "
   ]
  },
  {
   "cell_type": "code",
   "execution_count": 254,
   "id": "d9d486f9",
   "metadata": {},
   "outputs": [],
   "source": [
    "# importing all essential libraries\n",
    "import numpy as np\n",
    "import pandas as pd\n",
    "import matplotlib.pyplot as plt\n",
    "import seaborn as sns\n",
    "from sklearn.model_selection import train_test_split\n",
    "from sklearn.linear_model import LinearRegression\n",
    "from sklearn.linear_model import Lasso\n",
    "from sklearn.metrics import mean_squared_error,mean_absolute_error,r2_score\n",
    "import warnings\n",
    "\n"
   ]
  },
  {
   "cell_type": "code",
   "execution_count": 255,
   "id": "120eb208",
   "metadata": {},
   "outputs": [],
   "source": [
    "# loading the dataset from local folder\n",
    "data=pd.read_csv(r\"C:\\Users\\Amby\\Downloads\\car_age_price.csv\")"
   ]
  },
  {
   "cell_type": "markdown",
   "id": "99cdc658",
   "metadata": {},
   "source": [
    "### Checking the basic details about dataset"
   ]
  },
  {
   "cell_type": "code",
   "execution_count": 256,
   "id": "91cce139",
   "metadata": {},
   "outputs": [
    {
     "data": {
      "text/html": [
       "<div>\n",
       "<style scoped>\n",
       "    .dataframe tbody tr th:only-of-type {\n",
       "        vertical-align: middle;\n",
       "    }\n",
       "\n",
       "    .dataframe tbody tr th {\n",
       "        vertical-align: top;\n",
       "    }\n",
       "\n",
       "    .dataframe thead th {\n",
       "        text-align: right;\n",
       "    }\n",
       "</style>\n",
       "<table border=\"1\" class=\"dataframe\">\n",
       "  <thead>\n",
       "    <tr style=\"text-align: right;\">\n",
       "      <th></th>\n",
       "      <th>Year</th>\n",
       "      <th>Price</th>\n",
       "    </tr>\n",
       "  </thead>\n",
       "  <tbody>\n",
       "    <tr>\n",
       "      <th>0</th>\n",
       "      <td>2018</td>\n",
       "      <td>465000</td>\n",
       "    </tr>\n",
       "    <tr>\n",
       "      <th>1</th>\n",
       "      <td>2019</td>\n",
       "      <td>755000</td>\n",
       "    </tr>\n",
       "    <tr>\n",
       "      <th>2</th>\n",
       "      <td>2019</td>\n",
       "      <td>700000</td>\n",
       "    </tr>\n",
       "    <tr>\n",
       "      <th>3</th>\n",
       "      <td>2018</td>\n",
       "      <td>465000</td>\n",
       "    </tr>\n",
       "    <tr>\n",
       "      <th>4</th>\n",
       "      <td>2018</td>\n",
       "      <td>465000</td>\n",
       "    </tr>\n",
       "  </tbody>\n",
       "</table>\n",
       "</div>"
      ],
      "text/plain": [
       "   Year   Price\n",
       "0  2018  465000\n",
       "1  2019  755000\n",
       "2  2019  700000\n",
       "3  2018  465000\n",
       "4  2018  465000"
      ]
     },
     "execution_count": 256,
     "metadata": {},
     "output_type": "execute_result"
    }
   ],
   "source": [
    "data.head()  # displays all columns and first five rows"
   ]
  },
  {
   "cell_type": "code",
   "execution_count": 257,
   "id": "97bf6191",
   "metadata": {},
   "outputs": [
    {
     "data": {
      "text/plain": [
       "(112, 2)"
      ]
     },
     "execution_count": 257,
     "metadata": {},
     "output_type": "execute_result"
    }
   ],
   "source": [
    "data.shape #displays total no: of rows and columns in the dataset"
   ]
  },
  {
   "cell_type": "code",
   "execution_count": 258,
   "id": "78d0d4c6",
   "metadata": {},
   "outputs": [
    {
     "name": "stdout",
     "output_type": "stream",
     "text": [
      "<class 'pandas.core.frame.DataFrame'>\n",
      "RangeIndex: 112 entries, 0 to 111\n",
      "Data columns (total 2 columns):\n",
      " #   Column  Non-Null Count  Dtype\n",
      "---  ------  --------------  -----\n",
      " 0   Year    112 non-null    int64\n",
      " 1   Price   112 non-null    int64\n",
      "dtypes: int64(2)\n",
      "memory usage: 1.9 KB\n"
     ]
    }
   ],
   "source": [
    "data.info() #displays brief information, like columns,non-null counts, data types etc"
   ]
  },
  {
   "cell_type": "code",
   "execution_count": 259,
   "id": "c0de3b91",
   "metadata": {},
   "outputs": [
    {
     "data": {
      "image/png": "[encoded data removed]",
      "text/plain": [
       "<Figure size 640x480 with 1 Axes>"
      ]
     },
     "metadata": {},
     "output_type": "display_data"
    }
   ],
   "source": [
    "plt.bar(data['Year'],data['Price']) #plotting a barchart with x-axis as year and y-axis as Price \n",
    "plt.xlabel('Year')\n",
    "plt.ylabel('Price')\n",
    "plt.title('Year of making and Price')\n",
    "plt.show()"
   ]
  },
  {
   "cell_type": "code",
   "execution_count": 260,
   "id": "d9c6219b",
   "metadata": {},
   "outputs": [
    {
     "data": {
      "text/plain": [
       "2017    47\n",
       "2015    22\n",
       "2019    12\n",
       "2018    11\n",
       "2016     6\n",
       "2014     6\n",
       "2020     4\n",
       "2013     4\n",
       "Name: Year, dtype: int64"
      ]
     },
     "execution_count": 260,
     "metadata": {},
     "output_type": "execute_result"
    }
   ],
   "source": [
    "data.Year.value_counts() "
   ]
  },
  {
   "cell_type": "markdown",
   "id": "b6e1fcc7",
   "metadata": {},
   "source": [
    "### Missing value Handling"
   ]
  },
  {
   "cell_type": "code",
   "execution_count": 261,
   "id": "46c13eda",
   "metadata": {},
   "outputs": [
    {
     "data": {
      "text/plain": [
       "Year     0\n",
       "Price    0\n",
       "dtype: int64"
      ]
     },
     "execution_count": 261,
     "metadata": {},
     "output_type": "execute_result"
    }
   ],
   "source": [
    "data.isna().sum() #checking for missing values  "
   ]
  },
  {
   "cell_type": "markdown",
   "id": "f8f5d110",
   "metadata": {},
   "source": [
    "#### *There is no missing values in the dataset."
   ]
  },
  {
   "cell_type": "markdown",
   "id": "1fa47a6b",
   "metadata": {},
   "source": [
    "### Outlier Handling"
   ]
  },
  {
   "cell_type": "code",
   "execution_count": 262,
   "id": "8bc76deb",
   "metadata": {},
   "outputs": [
    {
     "data": {
      "image/png": "[encoded data removed]",
      "text/plain": [
       "<Figure size 640x480 with 1 Axes>"
      ]
     },
     "metadata": {},
     "output_type": "display_data"
    },
    {
     "data": {
      "image/png": "[encoded data removed]",
      "text/plain": [
       "<Figure size 640x480 with 1 Axes>"
      ]
     },
     "metadata": {},
     "output_type": "display_data"
    }
   ],
   "source": [
    "for i in data[['Year','Price']]: # plotting boxplots for year and Price to check for outliers\n",
    "    plt.figure()\n",
    "    plt.boxplot(data[i])\n",
    "    plt.title(i)\n",
    "    plt.show()"
   ]
  },
  {
   "cell_type": "code",
   "execution_count": 263,
   "id": "38cd1bc6",
   "metadata": {},
   "outputs": [
    {
     "name": "stdout",
     "output_type": "stream",
     "text": [
      "(array([1], dtype=int64),)\n"
     ]
    }
   ],
   "source": [
    "print(np.where(data['Price']>700000)) #checking the index of the outlier "
   ]
  },
  {
   "cell_type": "markdown",
   "id": "046a8791",
   "metadata": {},
   "source": [
    "#### *From the above boxplots, we can see that there is an outlier in the 'Price ' feature. Since, it may harm the dataset if we remove the outlier, we can perform mapping or winsorization to handle the outlier. This will retain the information from the outlier but reduce its influence on the overall analysis. \n"
   ]
  },
  {
   "cell_type": "code",
   "execution_count": 264,
   "id": "cc41faae",
   "metadata": {},
   "outputs": [],
   "source": [
    "# calculating lower and upper threshold for mapping\n",
    "lower_th=np.percentile(data,1)\n",
    "upper_th=np.percentile(data,99.5)\n"
   ]
  },
  {
   "cell_type": "code",
   "execution_count": 265,
   "id": "cb02dcb7",
   "metadata": {},
   "outputs": [],
   "source": [
    "# Applying winsorization to map outliers\n",
    "data_mapped=np.where(data<lower_th,lower_th,data)\n",
    "data_mapped=np.where(data>upper_th,upper_th,data)"
   ]
  },
  {
   "cell_type": "markdown",
   "id": "f92b286a",
   "metadata": {},
   "source": [
    "#### * The data_mapped variable now contains the dataset with outliers mapped to the specified thresholds."
   ]
  },
  {
   "cell_type": "code",
   "execution_count": 266,
   "id": "eee3fde2",
   "metadata": {},
   "outputs": [
    {
     "name": "stdout",
     "output_type": "stream",
     "text": [
      "{'min': 2013.0, 'max': 700000.0, 'mean': 242695.82142857142}\n"
     ]
    }
   ],
   "source": [
    "# calculating the summary statistics of the mapped data\n",
    "mapped_stats={\n",
    "    'min':np.min(data_mapped),'max':np.max(data_mapped),'mean':np.mean(data_mapped)\n",
    "}\n",
    "print(mapped_stats)"
   ]
  },
  {
   "cell_type": "markdown",
   "id": "16428c64",
   "metadata": {},
   "source": [
    "#### * Since,the output of mapping is an array, we need to convert it into a Dataframe to further use the mapped dataset."
   ]
  },
  {
   "cell_type": "code",
   "execution_count": 267,
   "id": "065e5829",
   "metadata": {},
   "outputs": [
    {
     "data": {
      "text/html": [
       "<div>\n",
       "<style scoped>\n",
       "    .dataframe tbody tr th:only-of-type {\n",
       "        vertical-align: middle;\n",
       "    }\n",
       "\n",
       "    .dataframe tbody tr th {\n",
       "        vertical-align: top;\n",
       "    }\n",
       "\n",
       "    .dataframe thead th {\n",
       "        text-align: right;\n",
       "    }\n",
       "</style>\n",
       "<table border=\"1\" class=\"dataframe\">\n",
       "  <thead>\n",
       "    <tr style=\"text-align: right;\">\n",
       "      <th></th>\n",
       "      <th>Year</th>\n",
       "      <th>Price</th>\n",
       "    </tr>\n",
       "  </thead>\n",
       "  <tbody>\n",
       "    <tr>\n",
       "      <th>0</th>\n",
       "      <td>2018.0</td>\n",
       "      <td>465000.0</td>\n",
       "    </tr>\n",
       "    <tr>\n",
       "      <th>1</th>\n",
       "      <td>2019.0</td>\n",
       "      <td>700000.0</td>\n",
       "    </tr>\n",
       "    <tr>\n",
       "      <th>2</th>\n",
       "      <td>2019.0</td>\n",
       "      <td>700000.0</td>\n",
       "    </tr>\n",
       "    <tr>\n",
       "      <th>3</th>\n",
       "      <td>2018.0</td>\n",
       "      <td>465000.0</td>\n",
       "    </tr>\n",
       "    <tr>\n",
       "      <th>4</th>\n",
       "      <td>2018.0</td>\n",
       "      <td>465000.0</td>\n",
       "    </tr>\n",
       "  </tbody>\n",
       "</table>\n",
       "</div>"
      ],
      "text/plain": [
       "     Year     Price\n",
       "0  2018.0  465000.0\n",
       "1  2019.0  700000.0\n",
       "2  2019.0  700000.0\n",
       "3  2018.0  465000.0\n",
       "4  2018.0  465000.0"
      ]
     },
     "execution_count": 267,
     "metadata": {},
     "output_type": "execute_result"
    }
   ],
   "source": [
    "# Converting data_mapped array to a DataFrame\n",
    "map_data=pd.DataFrame(data_mapped,columns=['Year','Price'])\n",
    "map_data.head()"
   ]
  },
  {
   "cell_type": "markdown",
   "id": "70ee1c17",
   "metadata": {},
   "source": [
    "#### * Here, our new dataframe is ready for further preprocessing techniques. First we need to find the correlation between the variables('Year' and 'Price') in the dataset. Also we are plotting a heatmap for the visual representation of the correlation matrix."
   ]
  },
  {
   "cell_type": "code",
   "execution_count": 269,
   "id": "2f008cb7",
   "metadata": {
    "scrolled": true
   },
   "outputs": [
    {
     "data": {
      "text/plain": [
       "<Axes: >"
      ]
     },
     "execution_count": 269,
     "metadata": {},
     "output_type": "execute_result"
    },
    {
     "data": {
      "image/png": "[encoded data removed]",
      "text/plain": [
       "<Figure size 640x480 with 2 Axes>"
      ]
     },
     "metadata": {},
     "output_type": "display_data"
    }
   ],
   "source": [
    "corr_car=map_data.corr()\n",
    "sns.heatmap(corr_car,annot=True)"
   ]
  },
  {
   "cell_type": "markdown",
   "id": "f6faf172",
   "metadata": {},
   "source": [
    "#### * As we can see from the above heatmap that the correlation value between the variables is 0.78, it suggests a relatively strong positive relationship between the 'Price' and 'Year' variables. "
   ]
  },
  {
   "cell_type": "markdown",
   "id": "b10ae35f",
   "metadata": {},
   "source": [
    "### Model Preparation"
   ]
  },
  {
   "cell_type": "code",
   "execution_count": 270,
   "id": "0bf561d6",
   "metadata": {},
   "outputs": [],
   "source": [
    "# Splitting the data into x(independent variable) and y(dependent variable)\n",
    "\n",
    "y=map_data['Price']# target or dependent variable\n",
    "x=map_data.drop(['Price'],axis=1) # predictor variable or independent variable or feature "
   ]
  },
  {
   "cell_type": "code",
   "execution_count": 271,
   "id": "a4357478",
   "metadata": {},
   "outputs": [],
   "source": [
    "# Splitting the data into training and testing tests\n",
    "x_train,x_test,y_train,y_test=train_test_split(x,y,test_size=0.25,random_state=3)"
   ]
  },
  {
   "cell_type": "markdown",
   "id": "40f064b5",
   "metadata": {},
   "source": [
    "### Implementing Linear Regression Model"
   ]
  },
  {
   "cell_type": "code",
   "execution_count": 272,
   "id": "96ea4f35",
   "metadata": {},
   "outputs": [],
   "source": [
    "# creating an instance of the Linear Regression class\n",
    "lr_model=LinearRegression() "
   ]
  },
  {
   "cell_type": "code",
   "execution_count": 273,
   "id": "08c062e4",
   "metadata": {},
   "outputs": [],
   "source": [
    "# fitting a linear regression model to the training data. \n",
    "lr_model=lr.fit(x_train,y_train) "
   ]
  },
  {
   "cell_type": "markdown",
   "id": "cd14844e",
   "metadata": {},
   "source": [
    "#### *This will train the model using the training data"
   ]
  },
  {
   "cell_type": "code",
   "execution_count": 274,
   "id": "e33f1d75",
   "metadata": {},
   "outputs": [],
   "source": [
    "# Evaluating  Linear Regression Model Performance\n",
    "y_predt=lr_model.predict(x_test) "
   ]
  },
  {
   "cell_type": "code",
   "execution_count": 275,
   "id": "a0b01ca7",
   "metadata": {},
   "outputs": [
    {
     "name": "stdout",
     "output_type": "stream",
     "text": [
      "MSE : 1845738178.975788 \n",
      " R2_Score : 0.7491750791045346\n"
     ]
    }
   ],
   "source": [
    "lr_mse=mean_squared_error(y_test,y_predt)\n",
    "lr_r2=r2_score(y_test,y_predt)\n",
    "print('MSE :',lr_mse,'\\n','R2_Score :',lr_r2)"
   ]
  },
  {
   "cell_type": "markdown",
   "id": "9f31aa03",
   "metadata": {},
   "source": [
    "### Conducting Min-Max Scaling to check whether it makes any change in the performance of the model after scaling"
   ]
  },
  {
   "cell_type": "code",
   "execution_count": 276,
   "id": "bede83cf",
   "metadata": {},
   "outputs": [],
   "source": [
    "from sklearn.preprocessing import MinMaxScaler\n",
    "min_max=MinMaxScaler()\n",
    "x=min_max.fit_transform(x)\n",
    "x=pd.DataFrame(x)"
   ]
  },
  {
   "cell_type": "code",
   "execution_count": 277,
   "id": "4b8afc72",
   "metadata": {},
   "outputs": [
    {
     "name": "stdout",
     "output_type": "stream",
     "text": [
      "MSE : 1845738178.975788 \n",
      " R2_Score : 0.7491750791045346\n"
     ]
    }
   ],
   "source": [
    "lr_model=LinearRegression()\n",
    "lr_model=lr.fit(x_train,y_train)\n",
    "y_predt=lr_model.predict(x_test)\n",
    "lr_mse=mean_squared_error(y_test,y_predt)\n",
    "lr_r2=r2_score(y_test,y_predt)\n",
    "print('MSE :',lr_mse,'\\n','R2_Score :',lr_r2)"
   ]
  },
  {
   "cell_type": "markdown",
   "id": "1e1146f9",
   "metadata": {},
   "source": [
    "#### * By checking the outputs of the linear regression model before scaling and after scaling, we can see that there is no significant difference in the outputs."
   ]
  },
  {
   "cell_type": "markdown",
   "id": "be0500d5",
   "metadata": {},
   "source": [
    "### Implementing Lasso Regression Model"
   ]
  },
  {
   "cell_type": "code",
   "execution_count": 278,
   "id": "c195bfa3",
   "metadata": {},
   "outputs": [],
   "source": [
    "x=map_data.drop(['Price'],axis=1) "
   ]
  },
  {
   "cell_type": "code",
   "execution_count": 279,
   "id": "4e7f076a",
   "metadata": {},
   "outputs": [],
   "source": [
    "#creating an instance of Lasso Regression class\n",
    "la_model=Lasso(alpha=0.01)\n",
    "# fitting a Lasso regression model to the training data\n",
    "la_model.fit(x_train,y_train) \n",
    "# Evaluating Lasso Regression model Performance\n",
    "y_predt=la_model.predict(x_test)"
   ]
  },
  {
   "cell_type": "code",
   "execution_count": 280,
   "id": "73ff364e",
   "metadata": {},
   "outputs": [
    {
     "name": "stdout",
     "output_type": "stream",
     "text": [
      "MSE : 1845738085.3404844 \n",
      " R2_score : 0.7491750918290195\n"
     ]
    }
   ],
   "source": [
    "la_mse=mean_squared_error(y_test,y_predt)\n",
    "la_r2=r2_score(y_test,y_predt)\n",
    "print('MSE :',la_mse,'\\n','R2_score :',la_r2)"
   ]
  },
  {
   "cell_type": "code",
   "execution_count": 281,
   "id": "ca37621e",
   "metadata": {},
   "outputs": [],
   "source": [
    "# Conducting Min-Max Scaling to check whether it makes any change in the performance of the model after scaling\n",
    "min_max=MinMaxScaler()\n",
    "x=min_max.fit_transform(x)\n",
    "x=pd.DataFrame(x)"
   ]
  },
  {
   "cell_type": "code",
   "execution_count": 282,
   "id": "3b9e5513",
   "metadata": {},
   "outputs": [
    {
     "name": "stdout",
     "output_type": "stream",
     "text": [
      "MSE : 1845738085.3404844 \n",
      " R2_score : 0.7491750918290195\n"
     ]
    }
   ],
   "source": [
    "la_model=Lasso(alpha=0.01)\n",
    "la_model.fit(x_train,y_train)\n",
    "y_predt=la_model.predict(x_test)\n",
    "la_mse=mean_squared_error(y_test,y_predt)\n",
    "la_r2=r2_score(y_test,y_predt)\n",
    "print('MSE :',la_mse,'\\n','R2_score :',la_r2)\n"
   ]
  },
  {
   "cell_type": "markdown",
   "id": "265dec06",
   "metadata": {},
   "source": [
    "#### * By checking the outputs of the lasso regression model before scaling and after scaling, we can see that there is no significant difference in the outputs."
   ]
  },
  {
   "cell_type": "markdown",
   "id": "4aa899d4",
   "metadata": {},
   "source": [
    "### Comparing the performance of Linear Regression Model and Lasso Regression Model "
   ]
  },
  {
   "cell_type": "code",
   "execution_count": 283,
   "id": "f7dea7e0",
   "metadata": {},
   "outputs": [
    {
     "name": "stdout",
     "output_type": "stream",
     "text": [
      " Linear Regression Model Performance \n",
      "\n",
      "  MSE : 1845738178.975788 \n",
      "  R2_Score : 0.7491750791045346 \n",
      "\n",
      " Lasso Regression Model Performance \n",
      "\n",
      " MSE : 1845738085.3404844 \n",
      " R2_score : 0.7491750918290195\n"
     ]
    }
   ],
   "source": [
    "print(\" Linear Regression Model Performance\",'\\n')\n",
    "print('  MSE :',lr_mse,'\\n',' R2_Score :',lr_r2,'\\n')\n",
    "print(\" Lasso Regression Model Performance\",'\\n')\n",
    "print(' MSE :',la_mse,'\\n','R2_score :',la_r2)"
   ]
  },
  {
   "cell_type": "markdown",
   "id": "a0a2a9fe",
   "metadata": {},
   "source": [
    "#### *Based on the performance metrics and analysis, we can see that there is only a minute difference in the MSE and R2_score values for both the regression models. However, taking that minute difference into account, lasso regression model is better suited for predicting the price in this case.  "
   ]
  },
  {
   "cell_type": "markdown",
   "id": "7696b9b3",
   "metadata": {},
   "source": [
    "### Price Prediction for 2022 Model"
   ]
  },
  {
   "cell_type": "code",
   "execution_count": 284,
   "id": "746546a6",
   "metadata": {},
   "outputs": [
    {
     "name": "stdout",
     "output_type": "stream",
     "text": [
      "[716918.15340908]\n"
     ]
    }
   ],
   "source": [
    "# Predicting the price of a 2022 model using linear regression model\n",
    "lr_pred_2022=lr_model.predict([[2022]])\n",
    "print(lr_pred_2022)"
   ]
  },
  {
   "cell_type": "code",
   "execution_count": 285,
   "id": "4d6b9a6d",
   "metadata": {},
   "outputs": [
    {
     "name": "stdout",
     "output_type": "stream",
     "text": [
      "[716918.13133521]\n"
     ]
    }
   ],
   "source": [
    "# Predicting the price of a 2022 model using lasso regression model\n",
    "la_pred_2022=la_model.predict([[2022]])\n",
    "print(la_pred_2022)"
   ]
  },
  {
   "cell_type": "code",
   "execution_count": 286,
   "id": "8e08fa19",
   "metadata": {},
   "outputs": [
    {
     "name": "stdout",
     "output_type": "stream",
     "text": [
      "Predicted Price of a 2022 Model Second-hand Hyundai Grand i10  \n",
      "\n",
      "Linear Regression : [716918.15340908]\n",
      "Lasso Regression  : [716918.13133521]\n"
     ]
    }
   ],
   "source": [
    "print(\"Predicted Price of a 2022 Model Second-hand Hyundai Grand i10 \",'\\n')\n",
    "print(\"Linear Regression :\", lr_pred_2022)\n",
    "print(\"Lasso Regression  :\",la_pred_2022)"
   ]
  },
  {
   "cell_type": "markdown",
   "id": "8a4a7478",
   "metadata": {},
   "source": [
    "#### * As we can see from the above findings, there is only a minute difference in the predicted price values for both the models of  2022 model second-hand Hyundai Grand i10. However, by taking the overall performance of both the models in to account, lasso regression is better in performance in this case. Ultimately, the choice between linear regression and lasso regression depends on the specific characteristics of the data you are taking and the goals of the analysis. "
   ]
  },
  {
   "cell_type": "code",
   "execution_count": null,
   "id": "5708f65f",
   "metadata": {},
   "outputs": [],
   "source": []
  }
 ],
 "metadata": {
  "kernelspec": {
   "display_name": "Python 3 (ipykernel)",
   "language": "python",
   "name": "python3"
  },
  "language_info": {
   "codemirror_mode": {
    "name": "ipython",
    "version": 3
   },
   "file_extension": ".py",
   "mimetype": "text/x-python",
   "name": "python",
   "nbconvert_exporter": "python",
   "pygments_lexer": "ipython3",
   "version": "3.10.9"
  }
 },
 "nbformat": 4,
 "nbformat_minor": 5
}
